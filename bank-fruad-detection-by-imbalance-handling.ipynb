{
 "cells": [
  {
   "cell_type": "code",
   "execution_count": 1,
   "id": "0597ed7d",
   "metadata": {
    "execution": {
     "iopub.execute_input": "2024-05-04T15:36:32.800425Z",
     "iopub.status.busy": "2024-05-04T15:36:32.799282Z",
     "iopub.status.idle": "2024-05-04T15:36:35.846036Z",
     "shell.execute_reply": "2024-05-04T15:36:35.844746Z"
    },
    "papermill": {
     "duration": 3.066182,
     "end_time": "2024-05-04T15:36:35.848794",
     "exception": false,
     "start_time": "2024-05-04T15:36:32.782612",
     "status": "completed"
    },
    "tags": []
   },
   "outputs": [],
   "source": [
    "import pandas as pd\n",
    "import numpy as np\n",
    "import matplotlib.pyplot as plt\n",
    "import seaborn as sns\n",
    "from sklearn.metrics import roc_auc_score,precision_recall_curve,roc_curve\n",
    "from sklearn.linear_model import LogisticRegression\n",
    "from sklearn.model_selection import train_test_split as tts"
   ]
  },
  {
   "cell_type": "code",
   "execution_count": 2,
   "id": "0575d645",
   "metadata": {
    "execution": {
     "iopub.execute_input": "2024-05-04T15:36:35.881750Z",
     "iopub.status.busy": "2024-05-04T15:36:35.880358Z",
     "iopub.status.idle": "2024-05-04T15:37:13.823978Z",
     "shell.execute_reply": "2024-05-04T15:37:13.822309Z"
    },
    "papermill": {
     "duration": 37.96357,
     "end_time": "2024-05-04T15:37:13.827035",
     "exception": false,
     "start_time": "2024-05-04T15:36:35.863465",
     "status": "completed"
    },
    "tags": []
   },
   "outputs": [],
   "source": [
    "sample_submission = pd.read_csv(\"/kaggle/input/ieee-fraud-detection/sample_submission.csv\")\n",
    "train_identity= pd.read_csv(\"/kaggle/input/ieee-fraud-detection/train_identity.csv\")\n",
    "train_transaction= pd.read_csv(\"/kaggle/input/ieee-fraud-detection/train_transaction.csv\")"
   ]
  },
  {
   "cell_type": "code",
   "execution_count": 3,
   "id": "198e8d4b",
   "metadata": {
    "execution": {
     "iopub.execute_input": "2024-05-04T15:37:13.858748Z",
     "iopub.status.busy": "2024-05-04T15:37:13.857756Z",
     "iopub.status.idle": "2024-05-04T15:37:13.884733Z",
     "shell.execute_reply": "2024-05-04T15:37:13.883497Z"
    },
    "papermill": {
     "duration": 0.045362,
     "end_time": "2024-05-04T15:37:13.887439",
     "exception": false,
     "start_time": "2024-05-04T15:37:13.842077",
     "status": "completed"
    },
    "tags": []
   },
   "outputs": [
    {
     "data": {
      "text/html": [
       "<div>\n",
       "<style scoped>\n",
       "    .dataframe tbody tr th:only-of-type {\n",
       "        vertical-align: middle;\n",
       "    }\n",
       "\n",
       "    .dataframe tbody tr th {\n",
       "        vertical-align: top;\n",
       "    }\n",
       "\n",
       "    .dataframe thead th {\n",
       "        text-align: right;\n",
       "    }\n",
       "</style>\n",
       "<table border=\"1\" class=\"dataframe\">\n",
       "  <thead>\n",
       "    <tr style=\"text-align: right;\">\n",
       "      <th></th>\n",
       "      <th>TransactionID</th>\n",
       "      <th>isFraud</th>\n",
       "    </tr>\n",
       "  </thead>\n",
       "  <tbody>\n",
       "    <tr>\n",
       "      <th>0</th>\n",
       "      <td>3663549</td>\n",
       "      <td>0.5</td>\n",
       "    </tr>\n",
       "    <tr>\n",
       "      <th>1</th>\n",
       "      <td>3663550</td>\n",
       "      <td>0.5</td>\n",
       "    </tr>\n",
       "    <tr>\n",
       "      <th>2</th>\n",
       "      <td>3663551</td>\n",
       "      <td>0.5</td>\n",
       "    </tr>\n",
       "    <tr>\n",
       "      <th>3</th>\n",
       "      <td>3663552</td>\n",
       "      <td>0.5</td>\n",
       "    </tr>\n",
       "    <tr>\n",
       "      <th>4</th>\n",
       "      <td>3663553</td>\n",
       "      <td>0.5</td>\n",
       "    </tr>\n",
       "  </tbody>\n",
       "</table>\n",
       "</div>"
      ],
      "text/plain": [
       "   TransactionID  isFraud\n",
       "0        3663549      0.5\n",
       "1        3663550      0.5\n",
       "2        3663551      0.5\n",
       "3        3663552      0.5\n",
       "4        3663553      0.5"
      ]
     },
     "execution_count": 3,
     "metadata": {},
     "output_type": "execute_result"
    }
   ],
   "source": [
    "sample_submission.head()"
   ]
  },
  {
   "cell_type": "code",
   "execution_count": 4,
   "id": "c8bb44b5",
   "metadata": {
    "execution": {
     "iopub.execute_input": "2024-05-04T15:37:13.921847Z",
     "iopub.status.busy": "2024-05-04T15:37:13.920962Z",
     "iopub.status.idle": "2024-05-04T15:37:13.956899Z",
     "shell.execute_reply": "2024-05-04T15:37:13.955491Z"
    },
    "papermill": {
     "duration": 0.054757,
     "end_time": "2024-05-04T15:37:13.959493",
     "exception": false,
     "start_time": "2024-05-04T15:37:13.904736",
     "status": "completed"
    },
    "tags": []
   },
   "outputs": [
    {
     "data": {
      "text/html": [
       "<div>\n",
       "<style scoped>\n",
       "    .dataframe tbody tr th:only-of-type {\n",
       "        vertical-align: middle;\n",
       "    }\n",
       "\n",
       "    .dataframe tbody tr th {\n",
       "        vertical-align: top;\n",
       "    }\n",
       "\n",
       "    .dataframe thead th {\n",
       "        text-align: right;\n",
       "    }\n",
       "</style>\n",
       "<table border=\"1\" class=\"dataframe\">\n",
       "  <thead>\n",
       "    <tr style=\"text-align: right;\">\n",
       "      <th></th>\n",
       "      <th>TransactionID</th>\n",
       "      <th>id_01</th>\n",
       "      <th>id_02</th>\n",
       "      <th>id_03</th>\n",
       "      <th>id_04</th>\n",
       "      <th>id_05</th>\n",
       "      <th>id_06</th>\n",
       "      <th>id_07</th>\n",
       "      <th>id_08</th>\n",
       "      <th>id_09</th>\n",
       "      <th>...</th>\n",
       "      <th>id_31</th>\n",
       "      <th>id_32</th>\n",
       "      <th>id_33</th>\n",
       "      <th>id_34</th>\n",
       "      <th>id_35</th>\n",
       "      <th>id_36</th>\n",
       "      <th>id_37</th>\n",
       "      <th>id_38</th>\n",
       "      <th>DeviceType</th>\n",
       "      <th>DeviceInfo</th>\n",
       "    </tr>\n",
       "  </thead>\n",
       "  <tbody>\n",
       "    <tr>\n",
       "      <th>0</th>\n",
       "      <td>2987004</td>\n",
       "      <td>0.0</td>\n",
       "      <td>70787.0</td>\n",
       "      <td>NaN</td>\n",
       "      <td>NaN</td>\n",
       "      <td>NaN</td>\n",
       "      <td>NaN</td>\n",
       "      <td>NaN</td>\n",
       "      <td>NaN</td>\n",
       "      <td>NaN</td>\n",
       "      <td>...</td>\n",
       "      <td>samsung browser 6.2</td>\n",
       "      <td>32.0</td>\n",
       "      <td>2220x1080</td>\n",
       "      <td>match_status:2</td>\n",
       "      <td>T</td>\n",
       "      <td>F</td>\n",
       "      <td>T</td>\n",
       "      <td>T</td>\n",
       "      <td>mobile</td>\n",
       "      <td>SAMSUNG SM-G892A Build/NRD90M</td>\n",
       "    </tr>\n",
       "    <tr>\n",
       "      <th>1</th>\n",
       "      <td>2987008</td>\n",
       "      <td>-5.0</td>\n",
       "      <td>98945.0</td>\n",
       "      <td>NaN</td>\n",
       "      <td>NaN</td>\n",
       "      <td>0.0</td>\n",
       "      <td>-5.0</td>\n",
       "      <td>NaN</td>\n",
       "      <td>NaN</td>\n",
       "      <td>NaN</td>\n",
       "      <td>...</td>\n",
       "      <td>mobile safari 11.0</td>\n",
       "      <td>32.0</td>\n",
       "      <td>1334x750</td>\n",
       "      <td>match_status:1</td>\n",
       "      <td>T</td>\n",
       "      <td>F</td>\n",
       "      <td>F</td>\n",
       "      <td>T</td>\n",
       "      <td>mobile</td>\n",
       "      <td>iOS Device</td>\n",
       "    </tr>\n",
       "    <tr>\n",
       "      <th>2</th>\n",
       "      <td>2987010</td>\n",
       "      <td>-5.0</td>\n",
       "      <td>191631.0</td>\n",
       "      <td>0.0</td>\n",
       "      <td>0.0</td>\n",
       "      <td>0.0</td>\n",
       "      <td>0.0</td>\n",
       "      <td>NaN</td>\n",
       "      <td>NaN</td>\n",
       "      <td>0.0</td>\n",
       "      <td>...</td>\n",
       "      <td>chrome 62.0</td>\n",
       "      <td>NaN</td>\n",
       "      <td>NaN</td>\n",
       "      <td>NaN</td>\n",
       "      <td>F</td>\n",
       "      <td>F</td>\n",
       "      <td>T</td>\n",
       "      <td>T</td>\n",
       "      <td>desktop</td>\n",
       "      <td>Windows</td>\n",
       "    </tr>\n",
       "    <tr>\n",
       "      <th>3</th>\n",
       "      <td>2987011</td>\n",
       "      <td>-5.0</td>\n",
       "      <td>221832.0</td>\n",
       "      <td>NaN</td>\n",
       "      <td>NaN</td>\n",
       "      <td>0.0</td>\n",
       "      <td>-6.0</td>\n",
       "      <td>NaN</td>\n",
       "      <td>NaN</td>\n",
       "      <td>NaN</td>\n",
       "      <td>...</td>\n",
       "      <td>chrome 62.0</td>\n",
       "      <td>NaN</td>\n",
       "      <td>NaN</td>\n",
       "      <td>NaN</td>\n",
       "      <td>F</td>\n",
       "      <td>F</td>\n",
       "      <td>T</td>\n",
       "      <td>T</td>\n",
       "      <td>desktop</td>\n",
       "      <td>NaN</td>\n",
       "    </tr>\n",
       "    <tr>\n",
       "      <th>4</th>\n",
       "      <td>2987016</td>\n",
       "      <td>0.0</td>\n",
       "      <td>7460.0</td>\n",
       "      <td>0.0</td>\n",
       "      <td>0.0</td>\n",
       "      <td>1.0</td>\n",
       "      <td>0.0</td>\n",
       "      <td>NaN</td>\n",
       "      <td>NaN</td>\n",
       "      <td>0.0</td>\n",
       "      <td>...</td>\n",
       "      <td>chrome 62.0</td>\n",
       "      <td>24.0</td>\n",
       "      <td>1280x800</td>\n",
       "      <td>match_status:2</td>\n",
       "      <td>T</td>\n",
       "      <td>F</td>\n",
       "      <td>T</td>\n",
       "      <td>T</td>\n",
       "      <td>desktop</td>\n",
       "      <td>MacOS</td>\n",
       "    </tr>\n",
       "  </tbody>\n",
       "</table>\n",
       "<p>5 rows × 41 columns</p>\n",
       "</div>"
      ],
      "text/plain": [
       "   TransactionID  id_01     id_02  id_03  id_04  id_05  id_06  id_07  id_08  \\\n",
       "0        2987004    0.0   70787.0    NaN    NaN    NaN    NaN    NaN    NaN   \n",
       "1        2987008   -5.0   98945.0    NaN    NaN    0.0   -5.0    NaN    NaN   \n",
       "2        2987010   -5.0  191631.0    0.0    0.0    0.0    0.0    NaN    NaN   \n",
       "3        2987011   -5.0  221832.0    NaN    NaN    0.0   -6.0    NaN    NaN   \n",
       "4        2987016    0.0    7460.0    0.0    0.0    1.0    0.0    NaN    NaN   \n",
       "\n",
       "   id_09  ...                id_31  id_32      id_33           id_34  id_35  \\\n",
       "0    NaN  ...  samsung browser 6.2   32.0  2220x1080  match_status:2      T   \n",
       "1    NaN  ...   mobile safari 11.0   32.0   1334x750  match_status:1      T   \n",
       "2    0.0  ...          chrome 62.0    NaN        NaN             NaN      F   \n",
       "3    NaN  ...          chrome 62.0    NaN        NaN             NaN      F   \n",
       "4    0.0  ...          chrome 62.0   24.0   1280x800  match_status:2      T   \n",
       "\n",
       "  id_36 id_37  id_38  DeviceType                     DeviceInfo  \n",
       "0     F     T      T      mobile  SAMSUNG SM-G892A Build/NRD90M  \n",
       "1     F     F      T      mobile                     iOS Device  \n",
       "2     F     T      T     desktop                        Windows  \n",
       "3     F     T      T     desktop                            NaN  \n",
       "4     F     T      T     desktop                          MacOS  \n",
       "\n",
       "[5 rows x 41 columns]"
      ]
     },
     "execution_count": 4,
     "metadata": {},
     "output_type": "execute_result"
    }
   ],
   "source": [
    "train_identity.head()"
   ]
  },
  {
   "cell_type": "code",
   "execution_count": 5,
   "id": "1276f70a",
   "metadata": {
    "execution": {
     "iopub.execute_input": "2024-05-04T15:37:13.992428Z",
     "iopub.status.busy": "2024-05-04T15:37:13.991276Z",
     "iopub.status.idle": "2024-05-04T15:37:14.023969Z",
     "shell.execute_reply": "2024-05-04T15:37:14.022567Z"
    },
    "papermill": {
     "duration": 0.051935,
     "end_time": "2024-05-04T15:37:14.026669",
     "exception": false,
     "start_time": "2024-05-04T15:37:13.974734",
     "status": "completed"
    },
    "tags": []
   },
   "outputs": [
    {
     "data": {
      "text/html": [
       "<div>\n",
       "<style scoped>\n",
       "    .dataframe tbody tr th:only-of-type {\n",
       "        vertical-align: middle;\n",
       "    }\n",
       "\n",
       "    .dataframe tbody tr th {\n",
       "        vertical-align: top;\n",
       "    }\n",
       "\n",
       "    .dataframe thead th {\n",
       "        text-align: right;\n",
       "    }\n",
       "</style>\n",
       "<table border=\"1\" class=\"dataframe\">\n",
       "  <thead>\n",
       "    <tr style=\"text-align: right;\">\n",
       "      <th></th>\n",
       "      <th>TransactionID</th>\n",
       "      <th>isFraud</th>\n",
       "      <th>TransactionDT</th>\n",
       "      <th>TransactionAmt</th>\n",
       "      <th>ProductCD</th>\n",
       "      <th>card1</th>\n",
       "      <th>card2</th>\n",
       "      <th>card3</th>\n",
       "      <th>card4</th>\n",
       "      <th>card5</th>\n",
       "      <th>...</th>\n",
       "      <th>V330</th>\n",
       "      <th>V331</th>\n",
       "      <th>V332</th>\n",
       "      <th>V333</th>\n",
       "      <th>V334</th>\n",
       "      <th>V335</th>\n",
       "      <th>V336</th>\n",
       "      <th>V337</th>\n",
       "      <th>V338</th>\n",
       "      <th>V339</th>\n",
       "    </tr>\n",
       "  </thead>\n",
       "  <tbody>\n",
       "    <tr>\n",
       "      <th>0</th>\n",
       "      <td>2987000</td>\n",
       "      <td>0</td>\n",
       "      <td>86400</td>\n",
       "      <td>68.5</td>\n",
       "      <td>W</td>\n",
       "      <td>13926</td>\n",
       "      <td>NaN</td>\n",
       "      <td>150.0</td>\n",
       "      <td>discover</td>\n",
       "      <td>142.0</td>\n",
       "      <td>...</td>\n",
       "      <td>NaN</td>\n",
       "      <td>NaN</td>\n",
       "      <td>NaN</td>\n",
       "      <td>NaN</td>\n",
       "      <td>NaN</td>\n",
       "      <td>NaN</td>\n",
       "      <td>NaN</td>\n",
       "      <td>NaN</td>\n",
       "      <td>NaN</td>\n",
       "      <td>NaN</td>\n",
       "    </tr>\n",
       "    <tr>\n",
       "      <th>1</th>\n",
       "      <td>2987001</td>\n",
       "      <td>0</td>\n",
       "      <td>86401</td>\n",
       "      <td>29.0</td>\n",
       "      <td>W</td>\n",
       "      <td>2755</td>\n",
       "      <td>404.0</td>\n",
       "      <td>150.0</td>\n",
       "      <td>mastercard</td>\n",
       "      <td>102.0</td>\n",
       "      <td>...</td>\n",
       "      <td>NaN</td>\n",
       "      <td>NaN</td>\n",
       "      <td>NaN</td>\n",
       "      <td>NaN</td>\n",
       "      <td>NaN</td>\n",
       "      <td>NaN</td>\n",
       "      <td>NaN</td>\n",
       "      <td>NaN</td>\n",
       "      <td>NaN</td>\n",
       "      <td>NaN</td>\n",
       "    </tr>\n",
       "    <tr>\n",
       "      <th>2</th>\n",
       "      <td>2987002</td>\n",
       "      <td>0</td>\n",
       "      <td>86469</td>\n",
       "      <td>59.0</td>\n",
       "      <td>W</td>\n",
       "      <td>4663</td>\n",
       "      <td>490.0</td>\n",
       "      <td>150.0</td>\n",
       "      <td>visa</td>\n",
       "      <td>166.0</td>\n",
       "      <td>...</td>\n",
       "      <td>NaN</td>\n",
       "      <td>NaN</td>\n",
       "      <td>NaN</td>\n",
       "      <td>NaN</td>\n",
       "      <td>NaN</td>\n",
       "      <td>NaN</td>\n",
       "      <td>NaN</td>\n",
       "      <td>NaN</td>\n",
       "      <td>NaN</td>\n",
       "      <td>NaN</td>\n",
       "    </tr>\n",
       "    <tr>\n",
       "      <th>3</th>\n",
       "      <td>2987003</td>\n",
       "      <td>0</td>\n",
       "      <td>86499</td>\n",
       "      <td>50.0</td>\n",
       "      <td>W</td>\n",
       "      <td>18132</td>\n",
       "      <td>567.0</td>\n",
       "      <td>150.0</td>\n",
       "      <td>mastercard</td>\n",
       "      <td>117.0</td>\n",
       "      <td>...</td>\n",
       "      <td>NaN</td>\n",
       "      <td>NaN</td>\n",
       "      <td>NaN</td>\n",
       "      <td>NaN</td>\n",
       "      <td>NaN</td>\n",
       "      <td>NaN</td>\n",
       "      <td>NaN</td>\n",
       "      <td>NaN</td>\n",
       "      <td>NaN</td>\n",
       "      <td>NaN</td>\n",
       "    </tr>\n",
       "    <tr>\n",
       "      <th>4</th>\n",
       "      <td>2987004</td>\n",
       "      <td>0</td>\n",
       "      <td>86506</td>\n",
       "      <td>50.0</td>\n",
       "      <td>H</td>\n",
       "      <td>4497</td>\n",
       "      <td>514.0</td>\n",
       "      <td>150.0</td>\n",
       "      <td>mastercard</td>\n",
       "      <td>102.0</td>\n",
       "      <td>...</td>\n",
       "      <td>0.0</td>\n",
       "      <td>0.0</td>\n",
       "      <td>0.0</td>\n",
       "      <td>0.0</td>\n",
       "      <td>0.0</td>\n",
       "      <td>0.0</td>\n",
       "      <td>0.0</td>\n",
       "      <td>0.0</td>\n",
       "      <td>0.0</td>\n",
       "      <td>0.0</td>\n",
       "    </tr>\n",
       "  </tbody>\n",
       "</table>\n",
       "<p>5 rows × 394 columns</p>\n",
       "</div>"
      ],
      "text/plain": [
       "   TransactionID  isFraud  TransactionDT  TransactionAmt ProductCD  card1  \\\n",
       "0        2987000        0          86400            68.5         W  13926   \n",
       "1        2987001        0          86401            29.0         W   2755   \n",
       "2        2987002        0          86469            59.0         W   4663   \n",
       "3        2987003        0          86499            50.0         W  18132   \n",
       "4        2987004        0          86506            50.0         H   4497   \n",
       "\n",
       "   card2  card3       card4  card5  ... V330  V331  V332  V333  V334 V335  \\\n",
       "0    NaN  150.0    discover  142.0  ...  NaN   NaN   NaN   NaN   NaN  NaN   \n",
       "1  404.0  150.0  mastercard  102.0  ...  NaN   NaN   NaN   NaN   NaN  NaN   \n",
       "2  490.0  150.0        visa  166.0  ...  NaN   NaN   NaN   NaN   NaN  NaN   \n",
       "3  567.0  150.0  mastercard  117.0  ...  NaN   NaN   NaN   NaN   NaN  NaN   \n",
       "4  514.0  150.0  mastercard  102.0  ...  0.0   0.0   0.0   0.0   0.0  0.0   \n",
       "\n",
       "  V336  V337  V338  V339  \n",
       "0  NaN   NaN   NaN   NaN  \n",
       "1  NaN   NaN   NaN   NaN  \n",
       "2  NaN   NaN   NaN   NaN  \n",
       "3  NaN   NaN   NaN   NaN  \n",
       "4  0.0   0.0   0.0   0.0  \n",
       "\n",
       "[5 rows x 394 columns]"
      ]
     },
     "execution_count": 5,
     "metadata": {},
     "output_type": "execute_result"
    }
   ],
   "source": [
    "train_transaction.head()"
   ]
  },
  {
   "cell_type": "code",
   "execution_count": 6,
   "id": "c5cdfb45",
   "metadata": {
    "execution": {
     "iopub.execute_input": "2024-05-04T15:37:14.060327Z",
     "iopub.status.busy": "2024-05-04T15:37:14.059293Z",
     "iopub.status.idle": "2024-05-04T15:37:14.100348Z",
     "shell.execute_reply": "2024-05-04T15:37:14.098321Z"
    },
    "papermill": {
     "duration": 0.060729,
     "end_time": "2024-05-04T15:37:14.103006",
     "exception": false,
     "start_time": "2024-05-04T15:37:14.042277",
     "status": "completed"
    },
    "tags": []
   },
   "outputs": [
    {
     "name": "stdout",
     "output_type": "stream",
     "text": [
      "<class 'pandas.core.frame.DataFrame'>\n",
      "RangeIndex: 590540 entries, 0 to 590539\n",
      "Columns: 394 entries, TransactionID to V339\n",
      "dtypes: float64(376), int64(4), object(14)\n",
      "memory usage: 1.7+ GB\n"
     ]
    }
   ],
   "source": [
    "train_transaction.info()"
   ]
  },
  {
   "cell_type": "code",
   "execution_count": 7,
   "id": "c219b0ac",
   "metadata": {
    "execution": {
     "iopub.execute_input": "2024-05-04T15:37:14.137339Z",
     "iopub.status.busy": "2024-05-04T15:37:14.136898Z",
     "iopub.status.idle": "2024-05-04T15:37:14.384071Z",
     "shell.execute_reply": "2024-05-04T15:37:14.382642Z"
    },
    "papermill": {
     "duration": 0.267259,
     "end_time": "2024-05-04T15:37:14.386967",
     "exception": false,
     "start_time": "2024-05-04T15:37:14.119708",
     "status": "completed"
    },
    "tags": []
   },
   "outputs": [
    {
     "name": "stdout",
     "output_type": "stream",
     "text": [
      "<class 'pandas.core.frame.DataFrame'>\n",
      "RangeIndex: 144233 entries, 0 to 144232\n",
      "Data columns (total 41 columns):\n",
      " #   Column         Non-Null Count   Dtype  \n",
      "---  ------         --------------   -----  \n",
      " 0   TransactionID  144233 non-null  int64  \n",
      " 1   id_01          144233 non-null  float64\n",
      " 2   id_02          140872 non-null  float64\n",
      " 3   id_03          66324 non-null   float64\n",
      " 4   id_04          66324 non-null   float64\n",
      " 5   id_05          136865 non-null  float64\n",
      " 6   id_06          136865 non-null  float64\n",
      " 7   id_07          5155 non-null    float64\n",
      " 8   id_08          5155 non-null    float64\n",
      " 9   id_09          74926 non-null   float64\n",
      " 10  id_10          74926 non-null   float64\n",
      " 11  id_11          140978 non-null  float64\n",
      " 12  id_12          144233 non-null  object \n",
      " 13  id_13          127320 non-null  float64\n",
      " 14  id_14          80044 non-null   float64\n",
      " 15  id_15          140985 non-null  object \n",
      " 16  id_16          129340 non-null  object \n",
      " 17  id_17          139369 non-null  float64\n",
      " 18  id_18          45113 non-null   float64\n",
      " 19  id_19          139318 non-null  float64\n",
      " 20  id_20          139261 non-null  float64\n",
      " 21  id_21          5159 non-null    float64\n",
      " 22  id_22          5169 non-null    float64\n",
      " 23  id_23          5169 non-null    object \n",
      " 24  id_24          4747 non-null    float64\n",
      " 25  id_25          5132 non-null    float64\n",
      " 26  id_26          5163 non-null    float64\n",
      " 27  id_27          5169 non-null    object \n",
      " 28  id_28          140978 non-null  object \n",
      " 29  id_29          140978 non-null  object \n",
      " 30  id_30          77565 non-null   object \n",
      " 31  id_31          140282 non-null  object \n",
      " 32  id_32          77586 non-null   float64\n",
      " 33  id_33          73289 non-null   object \n",
      " 34  id_34          77805 non-null   object \n",
      " 35  id_35          140985 non-null  object \n",
      " 36  id_36          140985 non-null  object \n",
      " 37  id_37          140985 non-null  object \n",
      " 38  id_38          140985 non-null  object \n",
      " 39  DeviceType     140810 non-null  object \n",
      " 40  DeviceInfo     118666 non-null  object \n",
      "dtypes: float64(23), int64(1), object(17)\n",
      "memory usage: 45.1+ MB\n"
     ]
    }
   ],
   "source": [
    "train_identity.info()"
   ]
  },
  {
   "cell_type": "code",
   "execution_count": 8,
   "id": "fb0ea242",
   "metadata": {
    "execution": {
     "iopub.execute_input": "2024-05-04T15:37:14.422667Z",
     "iopub.status.busy": "2024-05-04T15:37:14.422172Z",
     "iopub.status.idle": "2024-05-04T15:37:14.701937Z",
     "shell.execute_reply": "2024-05-04T15:37:14.700612Z"
    },
    "papermill": {
     "duration": 0.300716,
     "end_time": "2024-05-04T15:37:14.704740",
     "exception": false,
     "start_time": "2024-05-04T15:37:14.404024",
     "status": "completed"
    },
    "tags": []
   },
   "outputs": [
    {
     "data": {
      "image/png": "[encoded data removed]",
      "text/plain": [
       "<Figure size 400x300 with 1 Axes>"
      ]
     },
     "metadata": {},
     "output_type": "display_data"
    }
   ],
   "source": [
    "plt.figure(figsize=(4,3))\n",
    "my_palette = [\"#1f77b4\", \"#ff7f0e\"]  \n",
    "x = train_transaction['isFraud'].value_counts()  \n",
    "sns.barplot(x=x.index, y=x.values, palette=my_palette)  \n",
    "plt.title('Target variable count') \n",
    "plt.show()  # Display the plot\n"
   ]
  },
  {
   "cell_type": "code",
   "execution_count": 9,
   "id": "715852bd",
   "metadata": {
    "execution": {
     "iopub.execute_input": "2024-05-04T15:37:14.740047Z",
     "iopub.status.busy": "2024-05-04T15:37:14.739660Z",
     "iopub.status.idle": "2024-05-04T15:37:15.809326Z",
     "shell.execute_reply": "2024-05-04T15:37:15.807761Z"
    },
    "papermill": {
     "duration": 1.090867,
     "end_time": "2024-05-04T15:37:15.812190",
     "exception": false,
     "start_time": "2024-05-04T15:37:14.721323",
     "status": "completed"
    },
    "tags": []
   },
   "outputs": [
    {
     "name": "stdout",
     "output_type": "stream",
     "text": [
      "Train shape (590540, 435)\n"
     ]
    }
   ],
   "source": [
    "df =train_transaction.merge(train_identity,how='left',left_index=True,right_index=True)\n",
    "print('Train shape',df.shape)"
   ]
  },
  {
   "cell_type": "code",
   "execution_count": 10,
   "id": "e2717a9b",
   "metadata": {
    "execution": {
     "iopub.execute_input": "2024-05-04T15:37:15.848146Z",
     "iopub.status.busy": "2024-05-04T15:37:15.847763Z",
     "iopub.status.idle": "2024-05-04T15:37:15.876737Z",
     "shell.execute_reply": "2024-05-04T15:37:15.875877Z"
    },
    "papermill": {
     "duration": 0.050764,
     "end_time": "2024-05-04T15:37:15.879565",
     "exception": false,
     "start_time": "2024-05-04T15:37:15.828801",
     "status": "completed"
    },
    "tags": []
   },
   "outputs": [
    {
     "data": {
      "text/html": [
       "<div>\n",
       "<style scoped>\n",
       "    .dataframe tbody tr th:only-of-type {\n",
       "        vertical-align: middle;\n",
       "    }\n",
       "\n",
       "    .dataframe tbody tr th {\n",
       "        vertical-align: top;\n",
       "    }\n",
       "\n",
       "    .dataframe thead th {\n",
       "        text-align: right;\n",
       "    }\n",
       "</style>\n",
       "<table border=\"1\" class=\"dataframe\">\n",
       "  <thead>\n",
       "    <tr style=\"text-align: right;\">\n",
       "      <th></th>\n",
       "      <th>TransactionID_x</th>\n",
       "      <th>isFraud</th>\n",
       "      <th>TransactionDT</th>\n",
       "      <th>TransactionAmt</th>\n",
       "      <th>ProductCD</th>\n",
       "      <th>card1</th>\n",
       "      <th>card2</th>\n",
       "      <th>card3</th>\n",
       "      <th>card4</th>\n",
       "      <th>card5</th>\n",
       "      <th>...</th>\n",
       "      <th>id_31</th>\n",
       "      <th>id_32</th>\n",
       "      <th>id_33</th>\n",
       "      <th>id_34</th>\n",
       "      <th>id_35</th>\n",
       "      <th>id_36</th>\n",
       "      <th>id_37</th>\n",
       "      <th>id_38</th>\n",
       "      <th>DeviceType</th>\n",
       "      <th>DeviceInfo</th>\n",
       "    </tr>\n",
       "  </thead>\n",
       "  <tbody>\n",
       "    <tr>\n",
       "      <th>0</th>\n",
       "      <td>2987000</td>\n",
       "      <td>0</td>\n",
       "      <td>86400</td>\n",
       "      <td>68.5</td>\n",
       "      <td>W</td>\n",
       "      <td>13926</td>\n",
       "      <td>NaN</td>\n",
       "      <td>150.0</td>\n",
       "      <td>discover</td>\n",
       "      <td>142.0</td>\n",
       "      <td>...</td>\n",
       "      <td>samsung browser 6.2</td>\n",
       "      <td>32.0</td>\n",
       "      <td>2220x1080</td>\n",
       "      <td>match_status:2</td>\n",
       "      <td>T</td>\n",
       "      <td>F</td>\n",
       "      <td>T</td>\n",
       "      <td>T</td>\n",
       "      <td>mobile</td>\n",
       "      <td>SAMSUNG SM-G892A Build/NRD90M</td>\n",
       "    </tr>\n",
       "    <tr>\n",
       "      <th>1</th>\n",
       "      <td>2987001</td>\n",
       "      <td>0</td>\n",
       "      <td>86401</td>\n",
       "      <td>29.0</td>\n",
       "      <td>W</td>\n",
       "      <td>2755</td>\n",
       "      <td>404.0</td>\n",
       "      <td>150.0</td>\n",
       "      <td>mastercard</td>\n",
       "      <td>102.0</td>\n",
       "      <td>...</td>\n",
       "      <td>mobile safari 11.0</td>\n",
       "      <td>32.0</td>\n",
       "      <td>1334x750</td>\n",
       "      <td>match_status:1</td>\n",
       "      <td>T</td>\n",
       "      <td>F</td>\n",
       "      <td>F</td>\n",
       "      <td>T</td>\n",
       "      <td>mobile</td>\n",
       "      <td>iOS Device</td>\n",
       "    </tr>\n",
       "    <tr>\n",
       "      <th>2</th>\n",
       "      <td>2987002</td>\n",
       "      <td>0</td>\n",
       "      <td>86469</td>\n",
       "      <td>59.0</td>\n",
       "      <td>W</td>\n",
       "      <td>4663</td>\n",
       "      <td>490.0</td>\n",
       "      <td>150.0</td>\n",
       "      <td>visa</td>\n",
       "      <td>166.0</td>\n",
       "      <td>...</td>\n",
       "      <td>chrome 62.0</td>\n",
       "      <td>NaN</td>\n",
       "      <td>NaN</td>\n",
       "      <td>NaN</td>\n",
       "      <td>F</td>\n",
       "      <td>F</td>\n",
       "      <td>T</td>\n",
       "      <td>T</td>\n",
       "      <td>desktop</td>\n",
       "      <td>Windows</td>\n",
       "    </tr>\n",
       "    <tr>\n",
       "      <th>3</th>\n",
       "      <td>2987003</td>\n",
       "      <td>0</td>\n",
       "      <td>86499</td>\n",
       "      <td>50.0</td>\n",
       "      <td>W</td>\n",
       "      <td>18132</td>\n",
       "      <td>567.0</td>\n",
       "      <td>150.0</td>\n",
       "      <td>mastercard</td>\n",
       "      <td>117.0</td>\n",
       "      <td>...</td>\n",
       "      <td>chrome 62.0</td>\n",
       "      <td>NaN</td>\n",
       "      <td>NaN</td>\n",
       "      <td>NaN</td>\n",
       "      <td>F</td>\n",
       "      <td>F</td>\n",
       "      <td>T</td>\n",
       "      <td>T</td>\n",
       "      <td>desktop</td>\n",
       "      <td>NaN</td>\n",
       "    </tr>\n",
       "    <tr>\n",
       "      <th>4</th>\n",
       "      <td>2987004</td>\n",
       "      <td>0</td>\n",
       "      <td>86506</td>\n",
       "      <td>50.0</td>\n",
       "      <td>H</td>\n",
       "      <td>4497</td>\n",
       "      <td>514.0</td>\n",
       "      <td>150.0</td>\n",
       "      <td>mastercard</td>\n",
       "      <td>102.0</td>\n",
       "      <td>...</td>\n",
       "      <td>chrome 62.0</td>\n",
       "      <td>24.0</td>\n",
       "      <td>1280x800</td>\n",
       "      <td>match_status:2</td>\n",
       "      <td>T</td>\n",
       "      <td>F</td>\n",
       "      <td>T</td>\n",
       "      <td>T</td>\n",
       "      <td>desktop</td>\n",
       "      <td>MacOS</td>\n",
       "    </tr>\n",
       "  </tbody>\n",
       "</table>\n",
       "<p>5 rows × 435 columns</p>\n",
       "</div>"
      ],
      "text/plain": [
       "   TransactionID_x  isFraud  TransactionDT  TransactionAmt ProductCD  card1  \\\n",
       "0          2987000        0          86400            68.5         W  13926   \n",
       "1          2987001        0          86401            29.0         W   2755   \n",
       "2          2987002        0          86469            59.0         W   4663   \n",
       "3          2987003        0          86499            50.0         W  18132   \n",
       "4          2987004        0          86506            50.0         H   4497   \n",
       "\n",
       "   card2  card3       card4  card5  ...                id_31  id_32  \\\n",
       "0    NaN  150.0    discover  142.0  ...  samsung browser 6.2   32.0   \n",
       "1  404.0  150.0  mastercard  102.0  ...   mobile safari 11.0   32.0   \n",
       "2  490.0  150.0        visa  166.0  ...          chrome 62.0    NaN   \n",
       "3  567.0  150.0  mastercard  117.0  ...          chrome 62.0    NaN   \n",
       "4  514.0  150.0  mastercard  102.0  ...          chrome 62.0   24.0   \n",
       "\n",
       "       id_33           id_34  id_35 id_36 id_37  id_38  DeviceType  \\\n",
       "0  2220x1080  match_status:2      T     F     T      T      mobile   \n",
       "1   1334x750  match_status:1      T     F     F      T      mobile   \n",
       "2        NaN             NaN      F     F     T      T     desktop   \n",
       "3        NaN             NaN      F     F     T      T     desktop   \n",
       "4   1280x800  match_status:2      T     F     T      T     desktop   \n",
       "\n",
       "                      DeviceInfo  \n",
       "0  SAMSUNG SM-G892A Build/NRD90M  \n",
       "1                     iOS Device  \n",
       "2                        Windows  \n",
       "3                            NaN  \n",
       "4                          MacOS  \n",
       "\n",
       "[5 rows x 435 columns]"
      ]
     },
     "execution_count": 10,
     "metadata": {},
     "output_type": "execute_result"
    }
   ],
   "source": [
    "df.head()"
   ]
  },
  {
   "cell_type": "code",
   "execution_count": 11,
   "id": "37e3a1d1",
   "metadata": {
    "execution": {
     "iopub.execute_input": "2024-05-04T15:37:15.915723Z",
     "iopub.status.busy": "2024-05-04T15:37:15.915300Z",
     "iopub.status.idle": "2024-05-04T15:37:16.661739Z",
     "shell.execute_reply": "2024-05-04T15:37:16.660379Z"
    },
    "papermill": {
     "duration": 0.768215,
     "end_time": "2024-05-04T15:37:16.664759",
     "exception": false,
     "start_time": "2024-05-04T15:37:15.896544",
     "status": "completed"
    },
    "tags": []
   },
   "outputs": [],
   "source": [
    "x = df.drop(\"isFraud\", axis=1) \n",
    "y = df[[\"isFraud\"]]"
   ]
  },
  {
   "cell_type": "code",
   "execution_count": 12,
   "id": "e3c9827e",
   "metadata": {
    "execution": {
     "iopub.execute_input": "2024-05-04T15:37:16.699771Z",
     "iopub.status.busy": "2024-05-04T15:37:16.699323Z",
     "iopub.status.idle": "2024-05-04T15:37:16.727065Z",
     "shell.execute_reply": "2024-05-04T15:37:16.726177Z"
    },
    "papermill": {
     "duration": 0.04834,
     "end_time": "2024-05-04T15:37:16.729673",
     "exception": false,
     "start_time": "2024-05-04T15:37:16.681333",
     "status": "completed"
    },
    "tags": []
   },
   "outputs": [
    {
     "data": {
      "text/html": [
       "<div>\n",
       "<style scoped>\n",
       "    .dataframe tbody tr th:only-of-type {\n",
       "        vertical-align: middle;\n",
       "    }\n",
       "\n",
       "    .dataframe tbody tr th {\n",
       "        vertical-align: top;\n",
       "    }\n",
       "\n",
       "    .dataframe thead th {\n",
       "        text-align: right;\n",
       "    }\n",
       "</style>\n",
       "<table border=\"1\" class=\"dataframe\">\n",
       "  <thead>\n",
       "    <tr style=\"text-align: right;\">\n",
       "      <th></th>\n",
       "      <th>TransactionID_x</th>\n",
       "      <th>TransactionDT</th>\n",
       "      <th>TransactionAmt</th>\n",
       "      <th>ProductCD</th>\n",
       "      <th>card1</th>\n",
       "      <th>card2</th>\n",
       "      <th>card3</th>\n",
       "      <th>card4</th>\n",
       "      <th>card5</th>\n",
       "      <th>card6</th>\n",
       "      <th>...</th>\n",
       "      <th>id_31</th>\n",
       "      <th>id_32</th>\n",
       "      <th>id_33</th>\n",
       "      <th>id_34</th>\n",
       "      <th>id_35</th>\n",
       "      <th>id_36</th>\n",
       "      <th>id_37</th>\n",
       "      <th>id_38</th>\n",
       "      <th>DeviceType</th>\n",
       "      <th>DeviceInfo</th>\n",
       "    </tr>\n",
       "  </thead>\n",
       "  <tbody>\n",
       "    <tr>\n",
       "      <th>0</th>\n",
       "      <td>2987000</td>\n",
       "      <td>86400</td>\n",
       "      <td>68.5</td>\n",
       "      <td>W</td>\n",
       "      <td>13926</td>\n",
       "      <td>NaN</td>\n",
       "      <td>150.0</td>\n",
       "      <td>discover</td>\n",
       "      <td>142.0</td>\n",
       "      <td>credit</td>\n",
       "      <td>...</td>\n",
       "      <td>samsung browser 6.2</td>\n",
       "      <td>32.0</td>\n",
       "      <td>2220x1080</td>\n",
       "      <td>match_status:2</td>\n",
       "      <td>T</td>\n",
       "      <td>F</td>\n",
       "      <td>T</td>\n",
       "      <td>T</td>\n",
       "      <td>mobile</td>\n",
       "      <td>SAMSUNG SM-G892A Build/NRD90M</td>\n",
       "    </tr>\n",
       "    <tr>\n",
       "      <th>1</th>\n",
       "      <td>2987001</td>\n",
       "      <td>86401</td>\n",
       "      <td>29.0</td>\n",
       "      <td>W</td>\n",
       "      <td>2755</td>\n",
       "      <td>404.0</td>\n",
       "      <td>150.0</td>\n",
       "      <td>mastercard</td>\n",
       "      <td>102.0</td>\n",
       "      <td>credit</td>\n",
       "      <td>...</td>\n",
       "      <td>mobile safari 11.0</td>\n",
       "      <td>32.0</td>\n",
       "      <td>1334x750</td>\n",
       "      <td>match_status:1</td>\n",
       "      <td>T</td>\n",
       "      <td>F</td>\n",
       "      <td>F</td>\n",
       "      <td>T</td>\n",
       "      <td>mobile</td>\n",
       "      <td>iOS Device</td>\n",
       "    </tr>\n",
       "    <tr>\n",
       "      <th>2</th>\n",
       "      <td>2987002</td>\n",
       "      <td>86469</td>\n",
       "      <td>59.0</td>\n",
       "      <td>W</td>\n",
       "      <td>4663</td>\n",
       "      <td>490.0</td>\n",
       "      <td>150.0</td>\n",
       "      <td>visa</td>\n",
       "      <td>166.0</td>\n",
       "      <td>debit</td>\n",
       "      <td>...</td>\n",
       "      <td>chrome 62.0</td>\n",
       "      <td>NaN</td>\n",
       "      <td>NaN</td>\n",
       "      <td>NaN</td>\n",
       "      <td>F</td>\n",
       "      <td>F</td>\n",
       "      <td>T</td>\n",
       "      <td>T</td>\n",
       "      <td>desktop</td>\n",
       "      <td>Windows</td>\n",
       "    </tr>\n",
       "    <tr>\n",
       "      <th>3</th>\n",
       "      <td>2987003</td>\n",
       "      <td>86499</td>\n",
       "      <td>50.0</td>\n",
       "      <td>W</td>\n",
       "      <td>18132</td>\n",
       "      <td>567.0</td>\n",
       "      <td>150.0</td>\n",
       "      <td>mastercard</td>\n",
       "      <td>117.0</td>\n",
       "      <td>debit</td>\n",
       "      <td>...</td>\n",
       "      <td>chrome 62.0</td>\n",
       "      <td>NaN</td>\n",
       "      <td>NaN</td>\n",
       "      <td>NaN</td>\n",
       "      <td>F</td>\n",
       "      <td>F</td>\n",
       "      <td>T</td>\n",
       "      <td>T</td>\n",
       "      <td>desktop</td>\n",
       "      <td>NaN</td>\n",
       "    </tr>\n",
       "    <tr>\n",
       "      <th>4</th>\n",
       "      <td>2987004</td>\n",
       "      <td>86506</td>\n",
       "      <td>50.0</td>\n",
       "      <td>H</td>\n",
       "      <td>4497</td>\n",
       "      <td>514.0</td>\n",
       "      <td>150.0</td>\n",
       "      <td>mastercard</td>\n",
       "      <td>102.0</td>\n",
       "      <td>credit</td>\n",
       "      <td>...</td>\n",
       "      <td>chrome 62.0</td>\n",
       "      <td>24.0</td>\n",
       "      <td>1280x800</td>\n",
       "      <td>match_status:2</td>\n",
       "      <td>T</td>\n",
       "      <td>F</td>\n",
       "      <td>T</td>\n",
       "      <td>T</td>\n",
       "      <td>desktop</td>\n",
       "      <td>MacOS</td>\n",
       "    </tr>\n",
       "  </tbody>\n",
       "</table>\n",
       "<p>5 rows × 434 columns</p>\n",
       "</div>"
      ],
      "text/plain": [
       "   TransactionID_x  TransactionDT  TransactionAmt ProductCD  card1  card2  \\\n",
       "0          2987000          86400            68.5         W  13926    NaN   \n",
       "1          2987001          86401            29.0         W   2755  404.0   \n",
       "2          2987002          86469            59.0         W   4663  490.0   \n",
       "3          2987003          86499            50.0         W  18132  567.0   \n",
       "4          2987004          86506            50.0         H   4497  514.0   \n",
       "\n",
       "   card3       card4  card5   card6  ...                id_31  id_32  \\\n",
       "0  150.0    discover  142.0  credit  ...  samsung browser 6.2   32.0   \n",
       "1  150.0  mastercard  102.0  credit  ...   mobile safari 11.0   32.0   \n",
       "2  150.0        visa  166.0   debit  ...          chrome 62.0    NaN   \n",
       "3  150.0  mastercard  117.0   debit  ...          chrome 62.0    NaN   \n",
       "4  150.0  mastercard  102.0  credit  ...          chrome 62.0   24.0   \n",
       "\n",
       "       id_33           id_34 id_35 id_36  id_37  id_38  DeviceType  \\\n",
       "0  2220x1080  match_status:2     T     F      T      T      mobile   \n",
       "1   1334x750  match_status:1     T     F      F      T      mobile   \n",
       "2        NaN             NaN     F     F      T      T     desktop   \n",
       "3        NaN             NaN     F     F      T      T     desktop   \n",
       "4   1280x800  match_status:2     T     F      T      T     desktop   \n",
       "\n",
       "                      DeviceInfo  \n",
       "0  SAMSUNG SM-G892A Build/NRD90M  \n",
       "1                     iOS Device  \n",
       "2                        Windows  \n",
       "3                            NaN  \n",
       "4                          MacOS  \n",
       "\n",
       "[5 rows x 434 columns]"
      ]
     },
     "execution_count": 12,
     "metadata": {},
     "output_type": "execute_result"
    }
   ],
   "source": [
    "x.head()"
   ]
  },
  {
   "cell_type": "code",
   "execution_count": 13,
   "id": "5076d42a",
   "metadata": {
    "execution": {
     "iopub.execute_input": "2024-05-04T15:37:16.766939Z",
     "iopub.status.busy": "2024-05-04T15:37:16.766503Z",
     "iopub.status.idle": "2024-05-04T15:37:16.776269Z",
     "shell.execute_reply": "2024-05-04T15:37:16.775188Z"
    },
    "papermill": {
     "duration": 0.0311,
     "end_time": "2024-05-04T15:37:16.778554",
     "exception": false,
     "start_time": "2024-05-04T15:37:16.747454",
     "status": "completed"
    },
    "tags": []
   },
   "outputs": [
    {
     "data": {
      "text/html": [
       "<div>\n",
       "<style scoped>\n",
       "    .dataframe tbody tr th:only-of-type {\n",
       "        vertical-align: middle;\n",
       "    }\n",
       "\n",
       "    .dataframe tbody tr th {\n",
       "        vertical-align: top;\n",
       "    }\n",
       "\n",
       "    .dataframe thead th {\n",
       "        text-align: right;\n",
       "    }\n",
       "</style>\n",
       "<table border=\"1\" class=\"dataframe\">\n",
       "  <thead>\n",
       "    <tr style=\"text-align: right;\">\n",
       "      <th></th>\n",
       "      <th>isFraud</th>\n",
       "    </tr>\n",
       "  </thead>\n",
       "  <tbody>\n",
       "    <tr>\n",
       "      <th>0</th>\n",
       "      <td>0</td>\n",
       "    </tr>\n",
       "    <tr>\n",
       "      <th>1</th>\n",
       "      <td>0</td>\n",
       "    </tr>\n",
       "    <tr>\n",
       "      <th>2</th>\n",
       "      <td>0</td>\n",
       "    </tr>\n",
       "    <tr>\n",
       "      <th>3</th>\n",
       "      <td>0</td>\n",
       "    </tr>\n",
       "    <tr>\n",
       "      <th>4</th>\n",
       "      <td>0</td>\n",
       "    </tr>\n",
       "  </tbody>\n",
       "</table>\n",
       "</div>"
      ],
      "text/plain": [
       "   isFraud\n",
       "0        0\n",
       "1        0\n",
       "2        0\n",
       "3        0\n",
       "4        0"
      ]
     },
     "execution_count": 13,
     "metadata": {},
     "output_type": "execute_result"
    }
   ],
   "source": [
    "y.head()"
   ]
  },
  {
   "cell_type": "code",
   "execution_count": 14,
   "id": "7b6243d1",
   "metadata": {
    "execution": {
     "iopub.execute_input": "2024-05-04T15:37:16.815815Z",
     "iopub.status.busy": "2024-05-04T15:37:16.815346Z",
     "iopub.status.idle": "2024-05-04T15:37:17.252669Z",
     "shell.execute_reply": "2024-05-04T15:37:17.251492Z"
    },
    "papermill": {
     "duration": 0.459464,
     "end_time": "2024-05-04T15:37:17.255592",
     "exception": false,
     "start_time": "2024-05-04T15:37:16.796128",
     "status": "completed"
    },
    "tags": []
   },
   "outputs": [
    {
     "data": {
      "text/plain": [
       "<Axes: title={'center': 'Count (target)'}, xlabel='target'>"
      ]
     },
     "execution_count": 14,
     "metadata": {},
     "output_type": "execute_result"
    },
    {
     "data": {
      "image/png": "[encoded data removed]",
      "text/plain": [
       "<Figure size 640x480 with 1 Axes>"
      ]
     },
     "metadata": {},
     "output_type": "display_data"
    }
   ],
   "source": [
    "from sklearn.datasets import make_classification\n",
    "\n",
    "x, y = make_classification(\n",
    "    n_classes=2, class_sep=1.5, weights=[0.9, 0.1],\n",
    "    n_informative=3, n_redundant=1, flip_y=0,\n",
    "    n_features=20, n_clusters_per_class=1,\n",
    "    n_samples=1000, random_state=10\n",
    ")\n",
    "\n",
    "df = pd.DataFrame(x)\n",
    "df['target'] = y\n",
    "df.target.value_counts().plot(kind='bar', title='Count (target)')"
   ]
  },
  {
   "cell_type": "code",
   "execution_count": 15,
   "id": "07f4db1d",
   "metadata": {
    "execution": {
     "iopub.execute_input": "2024-05-04T15:37:17.293853Z",
     "iopub.status.busy": "2024-05-04T15:37:17.293468Z",
     "iopub.status.idle": "2024-05-04T15:37:17.300130Z",
     "shell.execute_reply": "2024-05-04T15:37:17.299191Z"
    },
    "papermill": {
     "duration": 0.028783,
     "end_time": "2024-05-04T15:37:17.302639",
     "exception": false,
     "start_time": "2024-05-04T15:37:17.273856",
     "status": "completed"
    },
    "tags": []
   },
   "outputs": [
    {
     "data": {
      "text/plain": [
       "array([[ 0.60013068, -1.42766402, -0.8128431 , ..., -0.55302378,\n",
       "         0.14876985, -1.24795877],\n",
       "       [ 0.25364115, -1.45638734, -0.52259796, ...,  1.69409346,\n",
       "        -0.24969905,  0.27085707],\n",
       "       [ 0.18225579, -1.27960188,  0.6780773 , ..., -0.81115113,\n",
       "        -0.28733609, -1.23417595],\n",
       "       ...,\n",
       "       [-1.47024551,  1.44291998, -0.61025173, ..., -0.80856535,\n",
       "         0.92899574, -0.98753905],\n",
       "       [ 1.16080297,  1.07930132, -0.10917057, ..., -2.58494382,\n",
       "        -1.74326156, -0.54876536],\n",
       "       [-0.29874435, -1.48144343, -0.34051766, ..., -0.17772046,\n",
       "        -0.13834763, -1.10924765]])"
      ]
     },
     "execution_count": 15,
     "metadata": {},
     "output_type": "execute_result"
    }
   ],
   "source": [
    "x"
   ]
  },
  {
   "cell_type": "code",
   "execution_count": 16,
   "id": "915ba97f",
   "metadata": {
    "execution": {
     "iopub.execute_input": "2024-05-04T15:37:17.341517Z",
     "iopub.status.busy": "2024-05-04T15:37:17.340321Z",
     "iopub.status.idle": "2024-05-04T15:37:17.347580Z",
     "shell.execute_reply": "2024-05-04T15:37:17.346489Z"
    },
    "papermill": {
     "duration": 0.029199,
     "end_time": "2024-05-04T15:37:17.349965",
     "exception": false,
     "start_time": "2024-05-04T15:37:17.320766",
     "status": "completed"
    },
    "tags": []
   },
   "outputs": [
    {
     "data": {
      "text/plain": [
       "(1000, 20)"
      ]
     },
     "execution_count": 16,
     "metadata": {},
     "output_type": "execute_result"
    }
   ],
   "source": [
    "x.shape"
   ]
  },
  {
   "cell_type": "code",
   "execution_count": 17,
   "id": "976123c0",
   "metadata": {
    "execution": {
     "iopub.execute_input": "2024-05-04T15:37:17.389248Z",
     "iopub.status.busy": "2024-05-04T15:37:17.388290Z",
     "iopub.status.idle": "2024-05-04T15:37:17.395811Z",
     "shell.execute_reply": "2024-05-04T15:37:17.394573Z"
    },
    "papermill": {
     "duration": 0.029999,
     "end_time": "2024-05-04T15:37:17.398431",
     "exception": false,
     "start_time": "2024-05-04T15:37:17.368432",
     "status": "completed"
    },
    "tags": []
   },
   "outputs": [],
   "source": [
    "def logistic(x,y):\n",
    "    X_train,X_test,y_train,y_test=tts(x,y,test_size=.2,random_state=1)\n",
    "    lr=LogisticRegression()\n",
    "    lr.fit(X_train,y_train)\n",
    "    prob=lr.predict_proba(X_test)\n",
    "    return (prob[:,1],y_test)"
   ]
  },
  {
   "cell_type": "code",
   "execution_count": 18,
   "id": "74100232",
   "metadata": {
    "execution": {
     "iopub.execute_input": "2024-05-04T15:37:17.438056Z",
     "iopub.status.busy": "2024-05-04T15:37:17.437275Z",
     "iopub.status.idle": "2024-05-04T15:37:17.466259Z",
     "shell.execute_reply": "2024-05-04T15:37:17.464610Z"
    },
    "papermill": {
     "duration": 0.053961,
     "end_time": "2024-05-04T15:37:17.471133",
     "exception": false,
     "start_time": "2024-05-04T15:37:17.417172",
     "status": "completed"
    },
    "tags": []
   },
   "outputs": [],
   "source": [
    "prob,y_test=logistic(x,y)"
   ]
  },
  {
   "cell_type": "code",
   "execution_count": 19,
   "id": "97af33f8",
   "metadata": {
    "execution": {
     "iopub.execute_input": "2024-05-04T15:37:17.553928Z",
     "iopub.status.busy": "2024-05-04T15:37:17.551823Z",
     "iopub.status.idle": "2024-05-04T15:37:17.569622Z",
     "shell.execute_reply": "2024-05-04T15:37:17.567891Z"
    },
    "papermill": {
     "duration": 0.063327,
     "end_time": "2024-05-04T15:37:17.574051",
     "exception": false,
     "start_time": "2024-05-04T15:37:17.510724",
     "status": "completed"
    },
    "tags": []
   },
   "outputs": [],
   "source": [
    "def plot_pre_curve(y_test,prob):\n",
    "    precision, recall, thresholds = precision_recall_curve(y_test, prob)\n",
    "    plt.plot([0, 1], [0.5, 0.5], linestyle='--')\n",
    "    # plot the precision-recall curve for the model\n",
    "    plt.plot(recall, precision, marker='.')\n",
    "    plt.title(\"precision recall curve\")\n",
    "    plt.xlabel('Recall')\n",
    "    plt.ylabel('Precision')\n",
    "    # show the plot\n",
    "    plt.show()\n",
    "    \n",
    "def plot_roc(y_test,prob):\n",
    "    fpr, tpr, thresholds = roc_curve(y_test, prob)\n",
    "    # plot no skill\n",
    "    plt.plot([0, 1], [0, 1], linestyle='--')\n",
    "    # plot the roc curve for the model\n",
    "    plt.plot(fpr, tpr, marker='.')\n",
    "    plt.title(\"ROC curve\")\n",
    "    plt.xlabel('false positive rate')\n",
    "    plt.ylabel('true positive rate')\n",
    "    # show the plot\n",
    "    plt.show()"
   ]
  },
  {
   "cell_type": "code",
   "execution_count": 20,
   "id": "7349e9ad",
   "metadata": {
    "execution": {
     "iopub.execute_input": "2024-05-04T15:37:17.616649Z",
     "iopub.status.busy": "2024-05-04T15:37:17.616181Z",
     "iopub.status.idle": "2024-05-04T15:37:17.903641Z",
     "shell.execute_reply": "2024-05-04T15:37:17.902504Z"
    },
    "papermill": {
     "duration": 0.310243,
     "end_time": "2024-05-04T15:37:17.907043",
     "exception": false,
     "start_time": "2024-05-04T15:37:17.596800",
     "status": "completed"
    },
    "tags": []
   },
   "outputs": [
    {
     "data": {
      "image/png": "[encoded data removed]",
      "text/plain": [
       "<Figure size 640x480 with 1 Axes>"
      ]
     },
     "metadata": {},
     "output_type": "display_data"
    }
   ],
   "source": [
    "plot_pre_curve(y_test,prob)"
   ]
  },
  {
   "cell_type": "code",
   "execution_count": 21,
   "id": "563c4af8",
   "metadata": {
    "execution": {
     "iopub.execute_input": "2024-05-04T15:37:17.946677Z",
     "iopub.status.busy": "2024-05-04T15:37:17.946263Z",
     "iopub.status.idle": "2024-05-04T15:37:18.219662Z",
     "shell.execute_reply": "2024-05-04T15:37:18.218322Z"
    },
    "papermill": {
     "duration": 0.296909,
     "end_time": "2024-05-04T15:37:18.222712",
     "exception": false,
     "start_time": "2024-05-04T15:37:17.925803",
     "status": "completed"
    },
    "tags": []
   },
   "outputs": [
    {
     "data": {
      "image/png": "[encoded data removed]",
      "text/plain": [
       "<Figure size 640x480 with 1 Axes>"
      ]
     },
     "metadata": {},
     "output_type": "display_data"
    }
   ],
   "source": [
    "plot_roc(y_test,prob)"
   ]
  },
  {
   "cell_type": "markdown",
   "id": "b8cee3b7",
   "metadata": {
    "papermill": {
     "duration": 0.080086,
     "end_time": "2024-05-04T15:37:18.321903",
     "exception": false,
     "start_time": "2024-05-04T15:37:18.241817",
     "status": "completed"
    },
    "tags": []
   },
   "source": [
    "**Oversampling**"
   ]
  },
  {
   "cell_type": "code",
   "execution_count": 22,
   "id": "5aaad5d4",
   "metadata": {
    "execution": {
     "iopub.execute_input": "2024-05-04T15:37:18.361972Z",
     "iopub.status.busy": "2024-05-04T15:37:18.361540Z",
     "iopub.status.idle": "2024-05-04T15:37:18.790243Z",
     "shell.execute_reply": "2024-05-04T15:37:18.789186Z"
    },
    "papermill": {
     "duration": 0.452004,
     "end_time": "2024-05-04T15:37:18.793024",
     "exception": false,
     "start_time": "2024-05-04T15:37:18.341020",
     "status": "completed"
    },
    "tags": []
   },
   "outputs": [],
   "source": [
    "from imblearn.over_sampling import SMOTE\n",
    "smote = SMOTE()\n",
    "x_re, y_re = smote.fit_resample(x, y)"
   ]
  },
  {
   "cell_type": "code",
   "execution_count": 23,
   "id": "b2d9912a",
   "metadata": {
    "execution": {
     "iopub.execute_input": "2024-05-04T15:37:18.835594Z",
     "iopub.status.busy": "2024-05-04T15:37:18.834912Z",
     "iopub.status.idle": "2024-05-04T15:37:18.842134Z",
     "shell.execute_reply": "2024-05-04T15:37:18.841140Z"
    },
    "papermill": {
     "duration": 0.031056,
     "end_time": "2024-05-04T15:37:18.844661",
     "exception": false,
     "start_time": "2024-05-04T15:37:18.813605",
     "status": "completed"
    },
    "tags": []
   },
   "outputs": [
    {
     "data": {
      "text/plain": [
       "(1800, 20)"
      ]
     },
     "execution_count": 23,
     "metadata": {},
     "output_type": "execute_result"
    }
   ],
   "source": [
    "x_re.shape"
   ]
  },
  {
   "cell_type": "code",
   "execution_count": 24,
   "id": "4c1652d8",
   "metadata": {
    "execution": {
     "iopub.execute_input": "2024-05-04T15:37:18.888990Z",
     "iopub.status.busy": "2024-05-04T15:37:18.888209Z",
     "iopub.status.idle": "2024-05-04T15:37:18.894540Z",
     "shell.execute_reply": "2024-05-04T15:37:18.893652Z"
    },
    "papermill": {
     "duration": 0.031691,
     "end_time": "2024-05-04T15:37:18.896949",
     "exception": false,
     "start_time": "2024-05-04T15:37:18.865258",
     "status": "completed"
    },
    "tags": []
   },
   "outputs": [
    {
     "data": {
      "text/plain": [
       "(1800,)"
      ]
     },
     "execution_count": 24,
     "metadata": {},
     "output_type": "execute_result"
    }
   ],
   "source": [
    "y_re.shape"
   ]
  },
  {
   "cell_type": "code",
   "execution_count": 25,
   "id": "cd0243a0",
   "metadata": {
    "execution": {
     "iopub.execute_input": "2024-05-04T15:37:18.938806Z",
     "iopub.status.busy": "2024-05-04T15:37:18.938037Z",
     "iopub.status.idle": "2024-05-04T15:37:19.291687Z",
     "shell.execute_reply": "2024-05-04T15:37:19.290487Z"
    },
    "papermill": {
     "duration": 0.377588,
     "end_time": "2024-05-04T15:37:19.294608",
     "exception": false,
     "start_time": "2024-05-04T15:37:18.917020",
     "status": "completed"
    },
    "tags": []
   },
   "outputs": [
    {
     "data": {
      "image/png": "[encoded data removed]",
      "text/plain": [
       "<Figure size 640x480 with 1 Axes>"
      ]
     },
     "metadata": {},
     "output_type": "display_data"
    }
   ],
   "source": [
    "prob,y_test=logistic(x_re,y_re)\n",
    "plot_pre_curve(y_test,prob)"
   ]
  },
  {
   "cell_type": "code",
   "execution_count": 26,
   "id": "ef0774ea",
   "metadata": {
    "execution": {
     "iopub.execute_input": "2024-05-04T15:37:19.336924Z",
     "iopub.status.busy": "2024-05-04T15:37:19.336506Z",
     "iopub.status.idle": "2024-05-04T15:37:19.583918Z",
     "shell.execute_reply": "2024-05-04T15:37:19.582698Z"
    },
    "papermill": {
     "duration": 0.272461,
     "end_time": "2024-05-04T15:37:19.587018",
     "exception": false,
     "start_time": "2024-05-04T15:37:19.314557",
     "status": "completed"
    },
    "tags": []
   },
   "outputs": [
    {
     "data": {
      "image/png": "[encoded data removed]",
      "text/plain": [
       "<Figure size 640x480 with 1 Axes>"
      ]
     },
     "metadata": {},
     "output_type": "display_data"
    }
   ],
   "source": [
    "plot_roc(y_test,prob)"
   ]
  },
  {
   "cell_type": "markdown",
   "id": "864168db",
   "metadata": {
    "papermill": {
     "duration": 0.021089,
     "end_time": "2024-05-04T15:37:19.633607",
     "exception": false,
     "start_time": "2024-05-04T15:37:19.612518",
     "status": "completed"
    },
    "tags": []
   },
   "source": [
    "**Imbalance**"
   ]
  },
  {
   "cell_type": "code",
   "execution_count": 27,
   "id": "27ac3bd5",
   "metadata": {
    "execution": {
     "iopub.execute_input": "2024-05-04T15:37:19.678378Z",
     "iopub.status.busy": "2024-05-04T15:37:19.677889Z",
     "iopub.status.idle": "2024-05-04T15:37:19.828600Z",
     "shell.execute_reply": "2024-05-04T15:37:19.827372Z"
    },
    "papermill": {
     "duration": 0.177212,
     "end_time": "2024-05-04T15:37:19.832141",
     "exception": false,
     "start_time": "2024-05-04T15:37:19.654929",
     "status": "completed"
    },
    "tags": []
   },
   "outputs": [],
   "source": [
    "from imblearn.under_sampling import NearMiss\n",
    "NearMiss_obj = NearMiss()\n",
    "new_x , new_y = NearMiss_obj.fit_resample(x,y)"
   ]
  },
  {
   "cell_type": "code",
   "execution_count": 28,
   "id": "d8569241",
   "metadata": {
    "execution": {
     "iopub.execute_input": "2024-05-04T15:37:19.889929Z",
     "iopub.status.busy": "2024-05-04T15:37:19.889510Z",
     "iopub.status.idle": "2024-05-04T15:37:19.897182Z",
     "shell.execute_reply": "2024-05-04T15:37:19.895952Z"
    },
    "papermill": {
     "duration": 0.039102,
     "end_time": "2024-05-04T15:37:19.904208",
     "exception": false,
     "start_time": "2024-05-04T15:37:19.865106",
     "status": "completed"
    },
    "tags": []
   },
   "outputs": [
    {
     "data": {
      "text/plain": [
       "(200, 20)"
      ]
     },
     "execution_count": 28,
     "metadata": {},
     "output_type": "execute_result"
    }
   ],
   "source": [
    "new_x.shape"
   ]
  },
  {
   "cell_type": "code",
   "execution_count": 29,
   "id": "95bf1ee4",
   "metadata": {
    "execution": {
     "iopub.execute_input": "2024-05-04T15:37:19.951367Z",
     "iopub.status.busy": "2024-05-04T15:37:19.950113Z",
     "iopub.status.idle": "2024-05-04T15:37:20.249127Z",
     "shell.execute_reply": "2024-05-04T15:37:20.247893Z"
    },
    "papermill": {
     "duration": 0.324614,
     "end_time": "2024-05-04T15:37:20.251897",
     "exception": false,
     "start_time": "2024-05-04T15:37:19.927283",
     "status": "completed"
    },
    "tags": []
   },
   "outputs": [
    {
     "data": {
      "image/png": "[encoded data removed]",
      "text/plain": [
       "<Figure size 640x480 with 1 Axes>"
      ]
     },
     "metadata": {},
     "output_type": "display_data"
    }
   ],
   "source": [
    "prob,y_test=logistic(new_x,new_y)\n",
    "plot_pre_curve(y_test,prob)"
   ]
  },
  {
   "cell_type": "code",
   "execution_count": 30,
   "id": "e035f517",
   "metadata": {
    "execution": {
     "iopub.execute_input": "2024-05-04T15:37:20.298466Z",
     "iopub.status.busy": "2024-05-04T15:37:20.297630Z",
     "iopub.status.idle": "2024-05-04T15:37:20.597044Z",
     "shell.execute_reply": "2024-05-04T15:37:20.595841Z"
    },
    "papermill": {
     "duration": 0.325365,
     "end_time": "2024-05-04T15:37:20.599851",
     "exception": false,
     "start_time": "2024-05-04T15:37:20.274486",
     "status": "completed"
    },
    "tags": []
   },
   "outputs": [
    {
     "data": {
      "image/png": "[encoded data removed]",
      "text/plain": [
       "<Figure size 640x480 with 1 Axes>"
      ]
     },
     "metadata": {},
     "output_type": "display_data"
    }
   ],
   "source": [
    "plot_roc(y_test,prob)"
   ]
  },
  {
   "cell_type": "markdown",
   "id": "0fdb31e8",
   "metadata": {
    "papermill": {
     "duration": 0.022638,
     "end_time": "2024-05-04T15:37:20.645526",
     "exception": false,
     "start_time": "2024-05-04T15:37:20.622888",
     "status": "completed"
    },
    "tags": []
   },
   "source": [
    "**Applying PCA**"
   ]
  },
  {
   "cell_type": "code",
   "execution_count": 31,
   "id": "e187da2e",
   "metadata": {
    "execution": {
     "iopub.execute_input": "2024-05-04T15:37:20.692284Z",
     "iopub.status.busy": "2024-05-04T15:37:20.691460Z",
     "iopub.status.idle": "2024-05-04T15:37:20.727026Z",
     "shell.execute_reply": "2024-05-04T15:37:20.725458Z"
    },
    "papermill": {
     "duration": 0.063819,
     "end_time": "2024-05-04T15:37:20.731235",
     "exception": false,
     "start_time": "2024-05-04T15:37:20.667416",
     "status": "completed"
    },
    "tags": []
   },
   "outputs": [],
   "source": [
    "from sklearn.decomposition import PCA\n",
    "pca = PCA(n_components=5)\n",
    "x_pca = pca.fit_transform(x)"
   ]
  },
  {
   "cell_type": "code",
   "execution_count": 32,
   "id": "27e617c8",
   "metadata": {
    "execution": {
     "iopub.execute_input": "2024-05-04T15:37:20.864931Z",
     "iopub.status.busy": "2024-05-04T15:37:20.864526Z",
     "iopub.status.idle": "2024-05-04T15:37:20.871929Z",
     "shell.execute_reply": "2024-05-04T15:37:20.870674Z"
    },
    "papermill": {
     "duration": 0.045398,
     "end_time": "2024-05-04T15:37:20.875419",
     "exception": false,
     "start_time": "2024-05-04T15:37:20.830021",
     "status": "completed"
    },
    "tags": []
   },
   "outputs": [
    {
     "data": {
      "text/plain": [
       "(1000, 5)"
      ]
     },
     "execution_count": 32,
     "metadata": {},
     "output_type": "execute_result"
    }
   ],
   "source": [
    "x_pca.shape"
   ]
  },
  {
   "cell_type": "code",
   "execution_count": 33,
   "id": "99e34897",
   "metadata": {
    "execution": {
     "iopub.execute_input": "2024-05-04T15:37:20.923588Z",
     "iopub.status.busy": "2024-05-04T15:37:20.923039Z",
     "iopub.status.idle": "2024-05-04T15:37:20.932108Z",
     "shell.execute_reply": "2024-05-04T15:37:20.930741Z"
    },
    "papermill": {
     "duration": 0.037509,
     "end_time": "2024-05-04T15:37:20.934660",
     "exception": false,
     "start_time": "2024-05-04T15:37:20.897151",
     "status": "completed"
    },
    "tags": []
   },
   "outputs": [
    {
     "data": {
      "text/plain": [
       "array([[ 0.22242199, -0.61238349, -0.13947361, -0.46051645, -0.22066045],\n",
       "       [ 0.77716848, -3.18195845,  0.92610379,  0.3388909 , -0.31870708],\n",
       "       [ 0.75013593, -0.19360637, -0.60334067, -0.19901819, -0.92845458],\n",
       "       ...,\n",
       "       [ 1.01814959, -0.24702399, -2.24233398,  0.75632997,  0.95667926],\n",
       "       [ 0.39767366, -1.96623451,  0.07044696,  0.85491651,  2.55575024],\n",
       "       [-0.72485924, -1.41714318,  1.52589146, -0.83778171,  1.07894611]])"
      ]
     },
     "execution_count": 33,
     "metadata": {},
     "output_type": "execute_result"
    }
   ],
   "source": [
    "x_pca"
   ]
  },
  {
   "cell_type": "code",
   "execution_count": 34,
   "id": "ae6bfea5",
   "metadata": {
    "execution": {
     "iopub.execute_input": "2024-05-04T15:37:20.985846Z",
     "iopub.status.busy": "2024-05-04T15:37:20.985452Z",
     "iopub.status.idle": "2024-05-04T15:37:20.991953Z",
     "shell.execute_reply": "2024-05-04T15:37:20.990363Z"
    },
    "papermill": {
     "duration": 0.033432,
     "end_time": "2024-05-04T15:37:20.994524",
     "exception": false,
     "start_time": "2024-05-04T15:37:20.961092",
     "status": "completed"
    },
    "tags": []
   },
   "outputs": [],
   "source": [
    "features = pd.DataFrame(x_pca, columns=['pca1','pca2','pca3','pca4','pca5'])"
   ]
  },
  {
   "cell_type": "code",
   "execution_count": 35,
   "id": "7ad74062",
   "metadata": {
    "execution": {
     "iopub.execute_input": "2024-05-04T15:37:21.041671Z",
     "iopub.status.busy": "2024-05-04T15:37:21.041167Z",
     "iopub.status.idle": "2024-05-04T15:37:21.060738Z",
     "shell.execute_reply": "2024-05-04T15:37:21.059408Z"
    },
    "papermill": {
     "duration": 0.046767,
     "end_time": "2024-05-04T15:37:21.063244",
     "exception": false,
     "start_time": "2024-05-04T15:37:21.016477",
     "status": "completed"
    },
    "tags": []
   },
   "outputs": [
    {
     "data": {
      "text/html": [
       "<div>\n",
       "<style scoped>\n",
       "    .dataframe tbody tr th:only-of-type {\n",
       "        vertical-align: middle;\n",
       "    }\n",
       "\n",
       "    .dataframe tbody tr th {\n",
       "        vertical-align: top;\n",
       "    }\n",
       "\n",
       "    .dataframe thead th {\n",
       "        text-align: right;\n",
       "    }\n",
       "</style>\n",
       "<table border=\"1\" class=\"dataframe\">\n",
       "  <thead>\n",
       "    <tr style=\"text-align: right;\">\n",
       "      <th></th>\n",
       "      <th>pca1</th>\n",
       "      <th>pca2</th>\n",
       "      <th>pca3</th>\n",
       "      <th>pca4</th>\n",
       "      <th>pca5</th>\n",
       "    </tr>\n",
       "  </thead>\n",
       "  <tbody>\n",
       "    <tr>\n",
       "      <th>0</th>\n",
       "      <td>0.222422</td>\n",
       "      <td>-0.612383</td>\n",
       "      <td>-0.139474</td>\n",
       "      <td>-0.460516</td>\n",
       "      <td>-0.220660</td>\n",
       "    </tr>\n",
       "    <tr>\n",
       "      <th>1</th>\n",
       "      <td>0.777168</td>\n",
       "      <td>-3.181958</td>\n",
       "      <td>0.926104</td>\n",
       "      <td>0.338891</td>\n",
       "      <td>-0.318707</td>\n",
       "    </tr>\n",
       "    <tr>\n",
       "      <th>2</th>\n",
       "      <td>0.750136</td>\n",
       "      <td>-0.193606</td>\n",
       "      <td>-0.603341</td>\n",
       "      <td>-0.199018</td>\n",
       "      <td>-0.928455</td>\n",
       "    </tr>\n",
       "    <tr>\n",
       "      <th>3</th>\n",
       "      <td>1.594626</td>\n",
       "      <td>-0.840815</td>\n",
       "      <td>-0.822270</td>\n",
       "      <td>-2.074367</td>\n",
       "      <td>1.226542</td>\n",
       "    </tr>\n",
       "    <tr>\n",
       "      <th>4</th>\n",
       "      <td>0.268331</td>\n",
       "      <td>-0.003733</td>\n",
       "      <td>-1.735277</td>\n",
       "      <td>-1.011039</td>\n",
       "      <td>3.541094</td>\n",
       "    </tr>\n",
       "    <tr>\n",
       "      <th>...</th>\n",
       "      <td>...</td>\n",
       "      <td>...</td>\n",
       "      <td>...</td>\n",
       "      <td>...</td>\n",
       "      <td>...</td>\n",
       "    </tr>\n",
       "    <tr>\n",
       "      <th>995</th>\n",
       "      <td>-0.430207</td>\n",
       "      <td>-1.876092</td>\n",
       "      <td>1.415127</td>\n",
       "      <td>-2.011518</td>\n",
       "      <td>0.008409</td>\n",
       "    </tr>\n",
       "    <tr>\n",
       "      <th>996</th>\n",
       "      <td>0.312917</td>\n",
       "      <td>-1.060161</td>\n",
       "      <td>-1.408525</td>\n",
       "      <td>-0.188902</td>\n",
       "      <td>0.044393</td>\n",
       "    </tr>\n",
       "    <tr>\n",
       "      <th>997</th>\n",
       "      <td>1.018150</td>\n",
       "      <td>-0.247024</td>\n",
       "      <td>-2.242334</td>\n",
       "      <td>0.756330</td>\n",
       "      <td>0.956679</td>\n",
       "    </tr>\n",
       "    <tr>\n",
       "      <th>998</th>\n",
       "      <td>0.397674</td>\n",
       "      <td>-1.966235</td>\n",
       "      <td>0.070447</td>\n",
       "      <td>0.854917</td>\n",
       "      <td>2.555750</td>\n",
       "    </tr>\n",
       "    <tr>\n",
       "      <th>999</th>\n",
       "      <td>-0.724859</td>\n",
       "      <td>-1.417143</td>\n",
       "      <td>1.525891</td>\n",
       "      <td>-0.837782</td>\n",
       "      <td>1.078946</td>\n",
       "    </tr>\n",
       "  </tbody>\n",
       "</table>\n",
       "<p>1000 rows × 5 columns</p>\n",
       "</div>"
      ],
      "text/plain": [
       "         pca1      pca2      pca3      pca4      pca5\n",
       "0    0.222422 -0.612383 -0.139474 -0.460516 -0.220660\n",
       "1    0.777168 -3.181958  0.926104  0.338891 -0.318707\n",
       "2    0.750136 -0.193606 -0.603341 -0.199018 -0.928455\n",
       "3    1.594626 -0.840815 -0.822270 -2.074367  1.226542\n",
       "4    0.268331 -0.003733 -1.735277 -1.011039  3.541094\n",
       "..        ...       ...       ...       ...       ...\n",
       "995 -0.430207 -1.876092  1.415127 -2.011518  0.008409\n",
       "996  0.312917 -1.060161 -1.408525 -0.188902  0.044393\n",
       "997  1.018150 -0.247024 -2.242334  0.756330  0.956679\n",
       "998  0.397674 -1.966235  0.070447  0.854917  2.555750\n",
       "999 -0.724859 -1.417143  1.525891 -0.837782  1.078946\n",
       "\n",
       "[1000 rows x 5 columns]"
      ]
     },
     "execution_count": 35,
     "metadata": {},
     "output_type": "execute_result"
    }
   ],
   "source": [
    "features"
   ]
  },
  {
   "cell_type": "code",
   "execution_count": 36,
   "id": "af8f3db0",
   "metadata": {
    "execution": {
     "iopub.execute_input": "2024-05-04T15:37:21.109933Z",
     "iopub.status.busy": "2024-05-04T15:37:21.109533Z",
     "iopub.status.idle": "2024-05-04T15:37:21.121712Z",
     "shell.execute_reply": "2024-05-04T15:37:21.120230Z"
    },
    "papermill": {
     "duration": 0.038748,
     "end_time": "2024-05-04T15:37:21.124300",
     "exception": false,
     "start_time": "2024-05-04T15:37:21.085552",
     "status": "completed"
    },
    "tags": []
   },
   "outputs": [],
   "source": [
    "from imblearn.over_sampling import SMOTE\n",
    "smote = SMOTE()\n",
    "x_re, y_re = smote.fit_resample(features, y)"
   ]
  },
  {
   "cell_type": "code",
   "execution_count": 37,
   "id": "e2f35903",
   "metadata": {
    "execution": {
     "iopub.execute_input": "2024-05-04T15:37:21.172313Z",
     "iopub.status.busy": "2024-05-04T15:37:21.171508Z",
     "iopub.status.idle": "2024-05-04T15:37:21.475974Z",
     "shell.execute_reply": "2024-05-04T15:37:21.474728Z"
    },
    "papermill": {
     "duration": 0.330973,
     "end_time": "2024-05-04T15:37:21.478763",
     "exception": false,
     "start_time": "2024-05-04T15:37:21.147790",
     "status": "completed"
    },
    "tags": []
   },
   "outputs": [
    {
     "data": {
      "image/png": "[encoded data removed]",
      "text/plain": [
       "<Figure size 640x480 with 1 Axes>"
      ]
     },
     "metadata": {},
     "output_type": "display_data"
    }
   ],
   "source": [
    "prob,y_test=logistic(x_re,y_re)\n",
    "plot_pre_curve(y_test,prob)"
   ]
  },
  {
   "cell_type": "code",
   "execution_count": 38,
   "id": "3b7e505e",
   "metadata": {
    "execution": {
     "iopub.execute_input": "2024-05-04T15:37:21.526994Z",
     "iopub.status.busy": "2024-05-04T15:37:21.526549Z",
     "iopub.status.idle": "2024-05-04T15:37:21.809915Z",
     "shell.execute_reply": "2024-05-04T15:37:21.808664Z"
    },
    "papermill": {
     "duration": 0.311464,
     "end_time": "2024-05-04T15:37:21.812932",
     "exception": false,
     "start_time": "2024-05-04T15:37:21.501468",
     "status": "completed"
    },
    "tags": []
   },
   "outputs": [
    {
     "data": {
      "image/png": "[encoded data removed]",
      "text/plain": [
       "<Figure size 640x480 with 1 Axes>"
      ]
     },
     "metadata": {},
     "output_type": "display_data"
    }
   ],
   "source": [
    "plot_roc(y_test,prob)"
   ]
  },
  {
   "cell_type": "markdown",
   "id": "f11a281c",
   "metadata": {
    "papermill": {
     "duration": 0.023008,
     "end_time": "2024-05-04T15:37:21.859812",
     "exception": false,
     "start_time": "2024-05-04T15:37:21.836804",
     "status": "completed"
    },
    "tags": []
   },
   "source": [
    "# Using cross validation"
   ]
  },
  {
   "cell_type": "code",
   "execution_count": 39,
   "id": "1cfd8723",
   "metadata": {
    "execution": {
     "iopub.execute_input": "2024-05-04T15:37:21.908304Z",
     "iopub.status.busy": "2024-05-04T15:37:21.907296Z",
     "iopub.status.idle": "2024-05-04T15:37:21.932963Z",
     "shell.execute_reply": "2024-05-04T15:37:21.931021Z"
    },
    "papermill": {
     "duration": 0.053909,
     "end_time": "2024-05-04T15:37:21.936972",
     "exception": false,
     "start_time": "2024-05-04T15:37:21.883063",
     "status": "completed"
    },
    "tags": []
   },
   "outputs": [],
   "source": [
    "X_train,X_test,y_train,y_test=tts(x,y,test_size=.2,random_state=1)\n",
    "lr=LogisticRegression()\n",
    "lr.fit(X_train,y_train)\n",
    "prob=lr.predict_proba(X_test)"
   ]
  },
  {
   "cell_type": "code",
   "execution_count": 40,
   "id": "d8558ec3",
   "metadata": {
    "execution": {
     "iopub.execute_input": "2024-05-04T15:37:22.038951Z",
     "iopub.status.busy": "2024-05-04T15:37:22.037118Z",
     "iopub.status.idle": "2024-05-04T15:37:22.102756Z",
     "shell.execute_reply": "2024-05-04T15:37:22.101344Z"
    },
    "papermill": {
     "duration": 0.119469,
     "end_time": "2024-05-04T15:37:22.105471",
     "exception": false,
     "start_time": "2024-05-04T15:37:21.986002",
     "status": "completed"
    },
    "tags": []
   },
   "outputs": [],
   "source": [
    "from sklearn.model_selection import KFold, cross_val_score\n",
    "kfold = KFold(n_splits=5, shuffle=True)\n",
    "result = cross_val_score(lr, x_re, y_re, cv=kfold) "
   ]
  },
  {
   "cell_type": "code",
   "execution_count": 41,
   "id": "9c952cec",
   "metadata": {
    "execution": {
     "iopub.execute_input": "2024-05-04T15:37:22.154990Z",
     "iopub.status.busy": "2024-05-04T15:37:22.154536Z",
     "iopub.status.idle": "2024-05-04T15:37:22.165305Z",
     "shell.execute_reply": "2024-05-04T15:37:22.163867Z"
    },
    "papermill": {
     "duration": 0.038672,
     "end_time": "2024-05-04T15:37:22.168121",
     "exception": false,
     "start_time": "2024-05-04T15:37:22.129449",
     "status": "completed"
    },
    "tags": []
   },
   "outputs": [],
   "source": [
    "def plot_pre_curve(y_test,result):\n",
    "    precision, recall, thresholds = precision_recall_curve(y_test, result)\n",
    "    plt.plot([0, 1], [0.5, 0.5], linestyle='--')\n",
    "    # plot the precision-recall curve for the model\n",
    "    plt.plot(recall, precision, marker='.')\n",
    "    plt.title(\"precision recall curve\")\n",
    "    plt.xlabel('Recall')\n",
    "    plt.ylabel('Precision')\n",
    "    # show the plot\n",
    "    plt.show()\n",
    "    \n",
    "def plot_roc(y_test,result):\n",
    "    fpr, tpr, thresholds = roc_curve(y_test, result)\n",
    "    # plot no skill\n",
    "    plt.plot([0, 1], [0, 1], linestyle='--')\n",
    "    # plot the roc curve for the model\n",
    "    plt.plot(fpr, tpr, marker='.')\n",
    "    plt.title(\"ROC curve\")\n",
    "    plt.xlabel('false positive rate')\n",
    "    plt.ylabel('true positive rate')\n",
    "    # show the plot\n",
    "    plt.show()"
   ]
  },
  {
   "cell_type": "code",
   "execution_count": 42,
   "id": "24900e8f",
   "metadata": {
    "execution": {
     "iopub.execute_input": "2024-05-04T15:37:22.217903Z",
     "iopub.status.busy": "2024-05-04T15:37:22.217460Z",
     "iopub.status.idle": "2024-05-04T15:37:22.635659Z",
     "shell.execute_reply": "2024-05-04T15:37:22.634309Z"
    },
    "papermill": {
     "duration": 0.446472,
     "end_time": "2024-05-04T15:37:22.638468",
     "exception": false,
     "start_time": "2024-05-04T15:37:22.191996",
     "status": "completed"
    },
    "tags": []
   },
   "outputs": [
    {
     "data": {
      "image/png": "[encoded data removed]",
      "text/plain": [
       "<Figure size 640x480 with 1 Axes>"
      ]
     },
     "metadata": {},
     "output_type": "display_data"
    }
   ],
   "source": [
    "result,y_test=logistic(x_re, y_re)\n",
    "plot_pre_curve(y_test,result)"
   ]
  },
  {
   "cell_type": "code",
   "execution_count": 43,
   "id": "47e5a0c1",
   "metadata": {
    "execution": {
     "iopub.execute_input": "2024-05-04T15:37:22.688401Z",
     "iopub.status.busy": "2024-05-04T15:37:22.687946Z",
     "iopub.status.idle": "2024-05-04T15:37:22.974312Z",
     "shell.execute_reply": "2024-05-04T15:37:22.973002Z"
    },
    "papermill": {
     "duration": 0.315118,
     "end_time": "2024-05-04T15:37:22.977449",
     "exception": false,
     "start_time": "2024-05-04T15:37:22.662331",
     "status": "completed"
    },
    "tags": []
   },
   "outputs": [
    {
     "data": {
      "image/png": "[encoded data removed]",
      "text/plain": [
       "<Figure size 640x480 with 1 Axes>"
      ]
     },
     "metadata": {},
     "output_type": "display_data"
    }
   ],
   "source": [
    "plot_roc(y_test,result)"
   ]
  }
 ],
 "metadata": {
  "kaggle": {
   "accelerator": "none",
   "dataSources": [
    {
     "databundleVersionId": 568274,
     "sourceId": 14242,
     "sourceType": "competition"
    }
   ],
   "dockerImageVersionId": 30698,
   "isGpuEnabled": false,
   "isInternetEnabled": true,
   "language": "python",
   "sourceType": "notebook"
  },
  "kernelspec": {
   "display_name": "Python 3",
   "language": "python",
   "name": "python3"
  },
  "language_info": {
   "codemirror_mode": {
    "name": "ipython",
    "version": 3
   },
   "file_extension": ".py",
   "mimetype": "text/x-python",
   "name": "python",
   "nbconvert_exporter": "python",
   "pygments_lexer": "ipython3",
   "version": "3.10.13"
  },
  "papermill": {
   "default_parameters": {},
   "duration": 54.494009,
   "end_time": "2024-05-04T15:37:24.025567",
   "environment_variables": {},
   "exception": null,
   "input_path": "__notebook__.ipynb",
   "output_path": "__notebook__.ipynb",
   "parameters": {},
   "start_time": "2024-05-04T15:36:29.531558",
   "version": "2.5.0"
  }
 },
 "nbformat": 4,
 "nbformat_minor": 5
}
